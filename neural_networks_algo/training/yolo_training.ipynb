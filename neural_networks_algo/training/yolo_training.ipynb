{
  "nbformat": 4,
  "nbformat_minor": 0,
  "metadata": {
    "accelerator": "GPU",
    "colab": {
      "name": "yolo_training",
      "provenance": [],
      "collapsed_sections": []
    },
    "kernelspec": {
      "display_name": "Python 3",
      "name": "python3"
    }
  },
  "cells": [
    {
      "cell_type": "markdown",
      "metadata": {
        "id": "7mGmQbAO5pQb"
      },
      "source": [
        "# Setup\n",
        "\n",
        "Clone repo, install dependencies and check PyTorch and GPU."
      ]
    },
    {
      "cell_type": "code",
      "metadata": {
        "colab": {
          "base_uri": "https://localhost:8080/"
        },
        "id": "wbvMlHd_QwMG",
        "outputId": "47c496b1-c968-4384-b29f-3d33c8cb5d82"
      },
      "source": [
        "!git clone https://github.com/ultralytics/yolov5  # clone\n",
        "%cd yolov5\n",
        "%pip install -qr requirements.txt  # install\n",
        "\n",
        "from yolov5 import utils\n",
        "display = utils.notebook_init()  # checks"
      ],
      "execution_count": null,
      "outputs": [
        {
          "output_type": "stream",
          "name": "stderr",
          "text": [
            "YOLOv5 🚀 v6.0-121-g360eec6 torch 1.10.0+cu111 CUDA:0 (Tesla K80, 11441MiB)\n"
          ]
        },
        {
          "output_type": "stream",
          "name": "stdout",
          "text": [
            "Setup complete ✅\n"
          ]
        }
      ]
    },
    {
      "cell_type": "markdown",
      "metadata": {
        "id": "rc_KbFk0juX2"
      },
      "source": [
        "## YOLOv5 training\n"
      ]
    },
    {
      "cell_type": "code",
      "metadata": {
        "colab": {
          "base_uri": "https://localhost:8080/"
        },
        "id": "8JNnN_8739gN",
        "outputId": "689108ea-703d-4400-9cad-65a94c6fb920"
      },
      "source": [
        "from google.colab import drive\n",
        "drive.mount('/content/drive')"
      ],
      "execution_count": null,
      "outputs": [
        {
          "output_type": "stream",
          "name": "stdout",
          "text": [
            "Mounted at /content/drive\n"
          ]
        }
      ]
    },
    {
      "cell_type": "code",
      "metadata": {
        "colab": {
          "base_uri": "https://localhost:8080/"
        },
        "id": "7-dqRsyl4Dfl",
        "outputId": "82794b69-ea49-4a98-8712-bbe078a39ee0"
      },
      "source": [
        "!python val.py --weights \"/content/drive/MyDrive/hack_final/dataset_hack/best(1).pt\" --data /content/drive/MyDrive/hack_final/dataset_hack/train.yaml --img 640 --iou 0.65 --half"
      ],
      "execution_count": null,
      "outputs": [
        {
          "output_type": "stream",
          "name": "stdout",
          "text": [
            "\u001b[34m\u001b[1mval: \u001b[0mdata=/content/drive/MyDrive/hack_final/dataset_hack/train.yaml, weights=['/content/drive/MyDrive/hack_final/dataset_hack/best(1).pt'], batch_size=32, imgsz=640, conf_thres=0.001, iou_thres=0.65, task=val, device=, workers=8, single_cls=False, augment=False, verbose=False, save_txt=False, save_hybrid=False, save_conf=False, save_json=False, project=runs/val, name=exp, exist_ok=False, half=True, dnn=False\n",
            "YOLOv5 🚀 v6.0-120-g92a7391 torch 1.10.0+cu111 CUDA:0 (Tesla K80, 11441MiB)\n",
            "\n",
            "Fusing layers... \n",
            "Model Summary: 213 layers, 7012822 parameters, 0 gradients, 15.8 GFLOPs\n",
            "\u001b[34m\u001b[1mval: \u001b[0mScanning '/content/drive/MyDrive/hack_final/dataset_hack/val/labels.cache' images and labels... 21 found, 0 missing, 0 empty, 0 corrupted: 100% 21/21 [00:00<?, ?it/s]\n",
            "               Class     Images     Labels          P          R     mAP@.5 mAP@.5:.95: 100% 1/1 [00:04<00:00,  4.62s/it]\n",
            "                 all         21         79      0.974      0.962       0.98      0.685\n",
            "Speed: 0.4ms pre-process, 28.6ms inference, 3.2ms NMS per image at shape (32, 3, 640, 640)\n",
            "Results saved to \u001b[1mruns/val/exp2\u001b[0m\n"
          ]
        }
      ]
    },
    {
      "cell_type": "markdown",
      "metadata": {
        "id": "lfz1f58cTInt"
      },
      "source": [
        "Результат на последней эпохе"
      ]
    },
    {
      "cell_type": "code",
      "metadata": {
        "id": "yuOakJ-cS5NF"
      },
      "source": [
        "Validating runs/train/exp2/weights/best.pt...\n",
        "Fusing layers... \n",
        "Model Summary: 213 layers, 7012822 parameters, 0 gradients, 15.8 GFLOPs\n",
        "               Class     Images     Labels          P          R     mAP@.5 mAP@.5:.95: 100% 1/1 [00:00<00:00,  1.42it/s]\n",
        "                 all         21         79      0.987      0.949      0.973      0.683"
      ],
      "execution_count": null,
      "outputs": []
    },
    {
      "cell_type": "code",
      "metadata": {
        "id": "dAyX2RqPQkgx"
      },
      "source": [
        "--weights yolov5s.pt --cache"
      ],
      "execution_count": null,
      "outputs": []
    },
    {
      "cell_type": "code",
      "metadata": {
        "colab": {
          "base_uri": "https://localhost:8080/"
        },
        "id": "1NcFxRcFdJ_O",
        "outputId": "13b192f3-587b-49f9-e654-538a5159e8fd"
      },
      "source": [
        "# Train YOLOv5s on COCO128 for 3 epochs\n",
        "!python train.py --img 640 --batch 16 --epochs 50 --data /content/drive/MyDrive/hack_final/dataset_hack/train.yaml --weights \"/content/yolov5/runs/train/exp/weights/last.pt\""
      ],
      "execution_count": null,
      "outputs": [
        {
          "output_type": "stream",
          "name": "stdout",
          "text": [
            "\u001b[34m\u001b[1mtrain: \u001b[0mweights=/content/yolov5/runs/train/exp/weights/last.pt, cfg=, data=/content/drive/MyDrive/hack_final/dataset_hack/train.yaml, hyp=data/hyps/hyp.scratch.yaml, epochs=50, batch_size=16, imgsz=640, rect=False, resume=False, nosave=False, noval=False, noautoanchor=False, evolve=None, bucket=, cache=None, image_weights=False, device=, multi_scale=False, single_cls=False, adam=False, sync_bn=False, workers=8, project=runs/train, name=exp, exist_ok=False, quad=False, linear_lr=False, label_smoothing=0.0, patience=100, freeze=0, save_period=-1, local_rank=-1, entity=None, upload_dataset=False, bbox_interval=-1, artifact_alias=latest\n",
            "\u001b[34m\u001b[1mgithub: \u001b[0mup to date with https://github.com/ultralytics/yolov5 ✅\n",
            "YOLOv5 🚀 v6.0-121-g360eec6 torch 1.10.0+cu111 CUDA:0 (Tesla K80, 11441MiB)\n",
            "\n",
            "\u001b[34m\u001b[1mhyperparameters: \u001b[0mlr0=0.01, lrf=0.1, momentum=0.937, weight_decay=0.0005, warmup_epochs=3.0, warmup_momentum=0.8, warmup_bias_lr=0.1, box=0.05, cls=0.5, cls_pw=1.0, obj=1.0, obj_pw=1.0, iou_t=0.2, anchor_t=4.0, fl_gamma=0.0, hsv_h=0.015, hsv_s=0.7, hsv_v=0.4, degrees=0.0, translate=0.1, scale=0.5, shear=0.0, perspective=0.0, flipud=0.0, fliplr=0.5, mosaic=1.0, mixup=0.0, copy_paste=0.0\n",
            "\u001b[34m\u001b[1mWeights & Biases: \u001b[0mrun 'pip install wandb' to automatically track and visualize YOLOv5 🚀 runs (RECOMMENDED)\n",
            "\u001b[34m\u001b[1mTensorBoard: \u001b[0mStart with 'tensorboard --logdir runs/train', view at http://localhost:6006/\n",
            "\n",
            "                 from  n    params  module                                  arguments                     \n",
            "  0                -1  1      3520  models.common.Conv                      [3, 32, 6, 2, 2]              \n",
            "  1                -1  1     18560  models.common.Conv                      [32, 64, 3, 2]                \n",
            "  2                -1  1     18816  models.common.C3                        [64, 64, 1]                   \n",
            "  3                -1  1     73984  models.common.Conv                      [64, 128, 3, 2]               \n",
            "  4                -1  2    115712  models.common.C3                        [128, 128, 2]                 \n",
            "  5                -1  1    295424  models.common.Conv                      [128, 256, 3, 2]              \n",
            "  6                -1  3    625152  models.common.C3                        [256, 256, 3]                 \n",
            "  7                -1  1   1180672  models.common.Conv                      [256, 512, 3, 2]              \n",
            "  8                -1  1   1182720  models.common.C3                        [512, 512, 1]                 \n",
            "  9                -1  1    656896  models.common.SPPF                      [512, 512, 5]                 \n",
            " 10                -1  1    131584  models.common.Conv                      [512, 256, 1, 1]              \n",
            " 11                -1  1         0  torch.nn.modules.upsampling.Upsample    [None, 2, 'nearest']          \n",
            " 12           [-1, 6]  1         0  models.common.Concat                    [1]                           \n",
            " 13                -1  1    361984  models.common.C3                        [512, 256, 1, False]          \n",
            " 14                -1  1     33024  models.common.Conv                      [256, 128, 1, 1]              \n",
            " 15                -1  1         0  torch.nn.modules.upsampling.Upsample    [None, 2, 'nearest']          \n",
            " 16           [-1, 4]  1         0  models.common.Concat                    [1]                           \n",
            " 17                -1  1     90880  models.common.C3                        [256, 128, 1, False]          \n",
            " 18                -1  1    147712  models.common.Conv                      [128, 128, 3, 2]              \n",
            " 19          [-1, 14]  1         0  models.common.Concat                    [1]                           \n",
            " 20                -1  1    296448  models.common.C3                        [256, 256, 1, False]          \n",
            " 21                -1  1    590336  models.common.Conv                      [256, 256, 3, 2]              \n",
            " 22          [-1, 10]  1         0  models.common.Concat                    [1]                           \n",
            " 23                -1  1   1182720  models.common.C3                        [512, 512, 1, False]          \n",
            " 24      [17, 20, 23]  1     16182  models.yolo.Detect                      [1, [[10, 13, 16, 30, 33, 23], [30, 61, 62, 45, 59, 119], [116, 90, 156, 198, 373, 326]], [128, 256, 512]]\n",
            "Model Summary: 270 layers, 7022326 parameters, 7022326 gradients, 15.8 GFLOPs\n",
            "\n",
            "Transferred 349/349 items from /content/yolov5/runs/train/exp/weights/last.pt\n",
            "Scaled weight_decay = 0.0005\n",
            "\u001b[34m\u001b[1moptimizer:\u001b[0m SGD with parameter groups 57 weight, 60 weight (no decay), 60 bias\n",
            "\u001b[34m\u001b[1malbumentations: \u001b[0mversion 1.0.3 required by YOLOv5, but version 0.1.12 is currently installed\n",
            "\u001b[34m\u001b[1mtrain: \u001b[0mScanning '/content/drive/MyDrive/hack_final/dataset_hack/train/labels.cache' images and labels... 308 found, 0 missing, 8 empty, 0 corrupted: 100% 308/308 [00:00<?, ?it/s]\n",
            "\u001b[34m\u001b[1mtrain: \u001b[0mWARNING: /content/drive/MyDrive/hack_final/dataset_hack/train/images/1_4953501.jpg: corrupt JPEG restored and saved\n",
            "\u001b[34m\u001b[1mval: \u001b[0mScanning '/content/drive/MyDrive/hack_final/dataset_hack/val/labels.cache' images and labels... 21 found, 0 missing, 0 empty, 0 corrupted: 100% 21/21 [00:00<?, ?it/s]\n",
            "Plotting labels to runs/train/exp2/labels.jpg... \n",
            "\n",
            "\u001b[34m\u001b[1mAutoAnchor: \u001b[0m5.23 anchors/target, 1.000 Best Possible Recall (BPR). Current anchors are a good fit to dataset ✅\n",
            "Image sizes 640 train, 640 val\n",
            "Using 2 dataloader workers\n",
            "Logging results to \u001b[1mruns/train/exp2\u001b[0m\n",
            "Starting training for 50 epochs...\n",
            "\n",
            "     Epoch   gpu_mem       box       obj       cls    labels  img_size\n",
            "      0/49     3.23G   0.02178   0.02154         0        25       640: 100% 20/20 [00:36<00:00,  1.84s/it]\n",
            "               Class     Images     Labels          P          R     mAP@.5 mAP@.5:.95: 100% 1/1 [00:00<00:00,  1.58it/s]\n",
            "                 all         21         79      0.974      0.962      0.977      0.673\n",
            "\n",
            "     Epoch   gpu_mem       box       obj       cls    labels  img_size\n",
            "      1/49     3.48G   0.02109   0.02138         0        23       640: 100% 20/20 [00:37<00:00,  1.90s/it]\n",
            "               Class     Images     Labels          P          R     mAP@.5 mAP@.5:.95: 100% 1/1 [00:00<00:00,  1.78it/s]\n",
            "                 all         21         79      0.987      0.949      0.972      0.676\n",
            "\n",
            "     Epoch   gpu_mem       box       obj       cls    labels  img_size\n",
            "      2/49     3.48G   0.02161   0.02189         0        34       640: 100% 20/20 [00:38<00:00,  1.94s/it]\n",
            "               Class     Images     Labels          P          R     mAP@.5 mAP@.5:.95: 100% 1/1 [00:00<00:00,  1.50it/s]\n",
            "                 all         21         79      0.987      0.949      0.972      0.674\n",
            "\n",
            "     Epoch   gpu_mem       box       obj       cls    labels  img_size\n",
            "      3/49     3.48G   0.02217   0.02232         0        33       640: 100% 20/20 [00:38<00:00,  1.90s/it]\n",
            "               Class     Images     Labels          P          R     mAP@.5 mAP@.5:.95: 100% 1/1 [00:00<00:00,  1.59it/s]\n",
            "                 all         21         79      0.987      0.949      0.972      0.672\n",
            "\n",
            "     Epoch   gpu_mem       box       obj       cls    labels  img_size\n",
            "      4/49     3.48G   0.02209   0.02217         0        52       640: 100% 20/20 [00:37<00:00,  1.89s/it]\n",
            "               Class     Images     Labels          P          R     mAP@.5 mAP@.5:.95: 100% 1/1 [00:00<00:00,  1.63it/s]\n",
            "                 all         21         79      0.987      0.949      0.973      0.684\n",
            "\n",
            "     Epoch   gpu_mem       box       obj       cls    labels  img_size\n",
            "      5/49     3.48G   0.02149   0.02291         0        26       640: 100% 20/20 [00:38<00:00,  1.93s/it]\n",
            "               Class     Images     Labels          P          R     mAP@.5 mAP@.5:.95: 100% 1/1 [00:00<00:00,  1.70it/s]\n",
            "                 all         21         79      0.987      0.949      0.972      0.673\n",
            "\n",
            "     Epoch   gpu_mem       box       obj       cls    labels  img_size\n",
            "      6/49     3.48G   0.02205   0.02281         0        46       640: 100% 20/20 [00:38<00:00,  1.93s/it]\n",
            "               Class     Images     Labels          P          R     mAP@.5 mAP@.5:.95: 100% 1/1 [00:00<00:00,  1.77it/s]\n",
            "                 all         21         79      0.951      0.987      0.981       0.66\n",
            "\n",
            "     Epoch   gpu_mem       box       obj       cls    labels  img_size\n",
            "      7/49     3.48G   0.02157   0.02156         0        19       640: 100% 20/20 [00:38<00:00,  1.94s/it]\n",
            "               Class     Images     Labels          P          R     mAP@.5 mAP@.5:.95: 100% 1/1 [00:00<00:00,  1.78it/s]\n",
            "                 all         21         79      0.962      0.975      0.979      0.649\n",
            "\n",
            "     Epoch   gpu_mem       box       obj       cls    labels  img_size\n",
            "      8/49     3.48G   0.02177   0.02059         0        19       640: 100% 20/20 [00:37<00:00,  1.87s/it]\n",
            "               Class     Images     Labels          P          R     mAP@.5 mAP@.5:.95: 100% 1/1 [00:00<00:00,  1.73it/s]\n",
            "                 all         21         79      0.962      0.975      0.978      0.648\n",
            "\n",
            "     Epoch   gpu_mem       box       obj       cls    labels  img_size\n",
            "      9/49     3.48G   0.02201   0.02208         0        13       640: 100% 20/20 [00:37<00:00,  1.87s/it]\n",
            "               Class     Images     Labels          P          R     mAP@.5 mAP@.5:.95: 100% 1/1 [00:00<00:00,  1.55it/s]\n",
            "                 all         21         79      0.974      0.962      0.978      0.644\n",
            "\n",
            "     Epoch   gpu_mem       box       obj       cls    labels  img_size\n",
            "     10/49     3.48G   0.02111   0.02065         0        26       640: 100% 20/20 [00:37<00:00,  1.87s/it]\n",
            "               Class     Images     Labels          P          R     mAP@.5 mAP@.5:.95: 100% 1/1 [00:00<00:00,  1.50it/s]\n",
            "                 all         21         79      0.987      0.949      0.972      0.658\n",
            "\n",
            "     Epoch   gpu_mem       box       obj       cls    labels  img_size\n",
            "     11/49     3.48G    0.0229    0.0213         0        34       640: 100% 20/20 [00:36<00:00,  1.83s/it]\n",
            "               Class     Images     Labels          P          R     mAP@.5 mAP@.5:.95: 100% 1/1 [00:00<00:00,  1.55it/s]\n",
            "                 all         21         79      0.987      0.962      0.978      0.636\n",
            "\n",
            "     Epoch   gpu_mem       box       obj       cls    labels  img_size\n",
            "     12/49     3.48G   0.02192   0.02143         0        19       640: 100% 20/20 [00:37<00:00,  1.90s/it]\n",
            "               Class     Images     Labels          P          R     mAP@.5 mAP@.5:.95: 100% 1/1 [00:00<00:00,  1.65it/s]\n",
            "                 all         21         79      0.962      0.975      0.977      0.654\n",
            "\n",
            "     Epoch   gpu_mem       box       obj       cls    labels  img_size\n",
            "     13/49     3.48G   0.02186   0.01996         0        18       640: 100% 20/20 [00:38<00:00,  1.91s/it]\n",
            "               Class     Images     Labels          P          R     mAP@.5 mAP@.5:.95: 100% 1/1 [00:00<00:00,  1.91it/s]\n",
            "                 all         21         79      0.987      0.962      0.977      0.651\n",
            "\n",
            "     Epoch   gpu_mem       box       obj       cls    labels  img_size\n",
            "     14/49     3.48G     0.022   0.02033         0        12       640: 100% 20/20 [00:37<00:00,  1.88s/it]\n",
            "               Class     Images     Labels          P          R     mAP@.5 mAP@.5:.95: 100% 1/1 [00:00<00:00,  1.62it/s]\n",
            "                 all         21         79      0.974      0.949      0.974      0.647\n",
            "\n",
            "     Epoch   gpu_mem       box       obj       cls    labels  img_size\n",
            "     15/49     3.48G   0.02109   0.02115         0        20       640: 100% 20/20 [00:35<00:00,  1.79s/it]\n",
            "               Class     Images     Labels          P          R     mAP@.5 mAP@.5:.95: 100% 1/1 [00:00<00:00,  1.53it/s]\n",
            "                 all         21         79      0.987      0.962      0.979      0.637\n",
            "\n",
            "     Epoch   gpu_mem       box       obj       cls    labels  img_size\n",
            "     16/49     3.48G   0.02245   0.02169         0        45       640: 100% 20/20 [00:36<00:00,  1.83s/it]\n",
            "               Class     Images     Labels          P          R     mAP@.5 mAP@.5:.95: 100% 1/1 [00:00<00:00,  1.76it/s]\n",
            "                 all         21         79      0.987      0.962      0.974      0.672\n",
            "\n",
            "     Epoch   gpu_mem       box       obj       cls    labels  img_size\n",
            "     17/49     3.48G   0.02247    0.0216         0        25       640: 100% 20/20 [00:37<00:00,  1.89s/it]\n",
            "               Class     Images     Labels          P          R     mAP@.5 mAP@.5:.95: 100% 1/1 [00:00<00:00,  1.71it/s]\n",
            "                 all         21         79      0.987      0.962       0.97      0.629\n",
            "\n",
            "     Epoch   gpu_mem       box       obj       cls    labels  img_size\n",
            "     18/49     3.48G   0.02311   0.01989         0        19       640: 100% 20/20 [00:37<00:00,  1.89s/it]\n",
            "               Class     Images     Labels          P          R     mAP@.5 mAP@.5:.95: 100% 1/1 [00:00<00:00,  1.89it/s]\n",
            "                 all         21         79      0.974      0.949      0.973      0.663\n",
            "\n",
            "     Epoch   gpu_mem       box       obj       cls    labels  img_size\n",
            "     19/49     3.48G   0.02225   0.02101         0        19       640: 100% 20/20 [00:37<00:00,  1.85s/it]\n",
            "               Class     Images     Labels          P          R     mAP@.5 mAP@.5:.95: 100% 1/1 [00:00<00:00,  1.71it/s]\n",
            "                 all         21         79       0.95      0.962      0.973      0.648\n",
            "\n",
            "     Epoch   gpu_mem       box       obj       cls    labels  img_size\n",
            "     20/49     3.48G   0.02307   0.02033         0        14       640: 100% 20/20 [00:37<00:00,  1.85s/it]\n",
            "               Class     Images     Labels          P          R     mAP@.5 mAP@.5:.95: 100% 1/1 [00:00<00:00,  1.76it/s]\n",
            "                 all         21         79      0.974      0.949      0.975       0.65\n",
            "\n",
            "     Epoch   gpu_mem       box       obj       cls    labels  img_size\n",
            "     21/49     3.48G   0.02227   0.02119         0        23       640: 100% 20/20 [00:37<00:00,  1.90s/it]\n",
            "               Class     Images     Labels          P          R     mAP@.5 mAP@.5:.95: 100% 1/1 [00:00<00:00,  1.55it/s]\n",
            "                 all         21         79      0.974      0.937      0.964      0.647\n",
            "\n",
            "     Epoch   gpu_mem       box       obj       cls    labels  img_size\n",
            "     22/49     3.48G   0.02218   0.02245         0        42       640: 100% 20/20 [00:37<00:00,  1.86s/it]\n",
            "               Class     Images     Labels          P          R     mAP@.5 mAP@.5:.95: 100% 1/1 [00:00<00:00,  1.48it/s]\n",
            "                 all         21         79      0.987      0.962       0.98      0.652\n",
            "\n",
            "     Epoch   gpu_mem       box       obj       cls    labels  img_size\n",
            "     23/49     3.48G   0.02191   0.01984         0        29       640: 100% 20/20 [00:38<00:00,  1.90s/it]\n",
            "               Class     Images     Labels          P          R     mAP@.5 mAP@.5:.95: 100% 1/1 [00:00<00:00,  1.62it/s]\n",
            "                 all         21         79      0.951      0.987      0.979       0.67\n",
            "\n",
            "     Epoch   gpu_mem       box       obj       cls    labels  img_size\n",
            "     24/49     3.48G   0.02184   0.02144         0        22       640: 100% 20/20 [00:37<00:00,  1.89s/it]\n",
            "               Class     Images     Labels          P          R     mAP@.5 mAP@.5:.95: 100% 1/1 [00:00<00:00,  1.43it/s]\n",
            "                 all         21         79      0.974      0.949      0.975       0.64\n",
            "\n",
            "     Epoch   gpu_mem       box       obj       cls    labels  img_size\n",
            "     25/49     3.48G   0.02481   0.02114         0        18       640: 100% 20/20 [00:36<00:00,  1.84s/it]\n",
            "               Class     Images     Labels          P          R     mAP@.5 mAP@.5:.95: 100% 1/1 [00:00<00:00,  1.85it/s]\n",
            "                 all         21         79      0.987      0.962      0.979      0.644\n",
            "\n",
            "     Epoch   gpu_mem       box       obj       cls    labels  img_size\n",
            "     26/49     3.48G   0.02468   0.02058         0        22       640: 100% 20/20 [00:36<00:00,  1.82s/it]\n",
            "               Class     Images     Labels          P          R     mAP@.5 mAP@.5:.95: 100% 1/1 [00:00<00:00,  1.64it/s]\n",
            "                 all         21         79      0.987      0.962      0.983      0.656\n",
            "\n",
            "     Epoch   gpu_mem       box       obj       cls    labels  img_size\n",
            "     27/49     3.48G   0.02374    0.0222         0        26       640: 100% 20/20 [00:37<00:00,  1.89s/it]\n",
            "               Class     Images     Labels          P          R     mAP@.5 mAP@.5:.95: 100% 1/1 [00:00<00:00,  1.61it/s]\n",
            "                 all         21         79      0.987      0.962      0.979      0.616\n",
            "\n",
            "     Epoch   gpu_mem       box       obj       cls    labels  img_size\n",
            "     28/49     3.48G    0.0243   0.02197         0        40       640: 100% 20/20 [00:37<00:00,  1.85s/it]\n",
            "               Class     Images     Labels          P          R     mAP@.5 mAP@.5:.95: 100% 1/1 [00:00<00:00,  1.70it/s]\n",
            "                 all         21         79      0.987      0.949      0.978      0.604\n",
            "\n",
            "     Epoch   gpu_mem       box       obj       cls    labels  img_size\n",
            "     29/49     3.48G   0.02361   0.02037         0        25       640: 100% 20/20 [00:36<00:00,  1.80s/it]\n",
            "               Class     Images     Labels          P          R     mAP@.5 mAP@.5:.95: 100% 1/1 [00:00<00:00,  1.61it/s]\n",
            "                 all         21         79      0.974      0.937      0.972      0.655\n",
            "\n",
            "     Epoch   gpu_mem       box       obj       cls    labels  img_size\n",
            "     30/49     3.48G    0.0234   0.02085         0        32       640: 100% 20/20 [00:36<00:00,  1.81s/it]\n",
            "               Class     Images     Labels          P          R     mAP@.5 mAP@.5:.95: 100% 1/1 [00:00<00:00,  1.98it/s]\n",
            "                 all         21         79       0.95      0.962      0.973      0.651\n",
            "\n",
            "     Epoch   gpu_mem       box       obj       cls    labels  img_size\n",
            "     31/49     3.48G   0.02291   0.02041         0        23       640: 100% 20/20 [00:35<00:00,  1.78s/it]\n",
            "               Class     Images     Labels          P          R     mAP@.5 mAP@.5:.95: 100% 1/1 [00:00<00:00,  1.75it/s]\n",
            "                 all         21         79      0.987      0.949      0.972       0.65\n",
            "\n",
            "     Epoch   gpu_mem       box       obj       cls    labels  img_size\n",
            "     32/49     3.48G   0.02234   0.02122         0        30       640: 100% 20/20 [00:36<00:00,  1.84s/it]\n",
            "               Class     Images     Labels          P          R     mAP@.5 mAP@.5:.95: 100% 1/1 [00:00<00:00,  1.49it/s]\n",
            "                 all         21         79      0.987      0.962      0.978      0.637\n",
            "\n",
            "     Epoch   gpu_mem       box       obj       cls    labels  img_size\n",
            "     33/49     3.48G   0.02266   0.02142         0        33       640: 100% 20/20 [00:37<00:00,  1.88s/it]\n",
            "               Class     Images     Labels          P          R     mAP@.5 mAP@.5:.95: 100% 1/1 [00:00<00:00,  1.48it/s]\n",
            "                 all         21         79      0.987      0.949      0.977      0.636\n",
            "\n",
            "     Epoch   gpu_mem       box       obj       cls    labels  img_size\n",
            "     34/49     3.48G   0.02298   0.02125         0        29       640: 100% 20/20 [00:35<00:00,  1.78s/it]\n",
            "               Class     Images     Labels          P          R     mAP@.5 mAP@.5:.95: 100% 1/1 [00:00<00:00,  1.57it/s]\n",
            "                 all         21         79      0.987      0.949      0.978      0.659\n",
            "\n",
            "     Epoch   gpu_mem       box       obj       cls    labels  img_size\n",
            "     35/49     3.48G   0.02099   0.02003         0        25       640: 100% 20/20 [00:35<00:00,  1.80s/it]\n",
            "               Class     Images     Labels          P          R     mAP@.5 mAP@.5:.95: 100% 1/1 [00:00<00:00,  1.57it/s]\n",
            "                 all         21         79      0.974      0.937      0.967      0.655\n",
            "\n",
            "     Epoch   gpu_mem       box       obj       cls    labels  img_size\n",
            "     36/49     3.48G   0.02181   0.02053         0        30       640: 100% 20/20 [00:37<00:00,  1.85s/it]\n",
            "               Class     Images     Labels          P          R     mAP@.5 mAP@.5:.95: 100% 1/1 [00:00<00:00,  1.45it/s]\n",
            "                 all         21         79      0.974      0.937      0.958       0.64\n",
            "\n",
            "     Epoch   gpu_mem       box       obj       cls    labels  img_size\n",
            "     37/49     3.48G   0.02087    0.0202         0        36       640: 100% 20/20 [00:36<00:00,  1.83s/it]\n",
            "               Class     Images     Labels          P          R     mAP@.5 mAP@.5:.95: 100% 1/1 [00:00<00:00,  1.54it/s]\n",
            "                 all         21         79      0.987      0.949      0.975       0.65\n",
            "\n",
            "     Epoch   gpu_mem       box       obj       cls    labels  img_size\n",
            "     38/49     3.48G   0.01955   0.01995         0        21       640: 100% 20/20 [00:37<00:00,  1.87s/it]\n",
            "               Class     Images     Labels          P          R     mAP@.5 mAP@.5:.95: 100% 1/1 [00:00<00:00,  1.58it/s]\n",
            "                 all         21         79      0.987      0.949      0.976       0.64\n",
            "\n",
            "     Epoch   gpu_mem       box       obj       cls    labels  img_size\n",
            "     39/49     3.48G   0.02055    0.0201         0        26       640: 100% 20/20 [00:35<00:00,  1.78s/it]\n",
            "               Class     Images     Labels          P          R     mAP@.5 mAP@.5:.95: 100% 1/1 [00:00<00:00,  1.66it/s]\n",
            "                 all         21         79      0.987      0.962      0.976      0.637\n",
            "\n",
            "     Epoch   gpu_mem       box       obj       cls    labels  img_size\n",
            "     40/49     3.48G   0.01959   0.01994         0         8       640: 100% 20/20 [00:36<00:00,  1.85s/it]\n",
            "               Class     Images     Labels          P          R     mAP@.5 mAP@.5:.95: 100% 1/1 [00:00<00:00,  1.58it/s]\n",
            "                 all         21         79      0.987      0.949      0.968      0.659\n",
            "\n",
            "     Epoch   gpu_mem       box       obj       cls    labels  img_size\n",
            "     41/49     3.48G   0.02052   0.01966         0        21       640: 100% 20/20 [00:36<00:00,  1.83s/it]\n",
            "               Class     Images     Labels          P          R     mAP@.5 mAP@.5:.95: 100% 1/1 [00:00<00:00,  1.57it/s]\n",
            "                 all         21         79      0.987      0.949      0.965      0.645\n",
            "\n",
            "     Epoch   gpu_mem       box       obj       cls    labels  img_size\n",
            "     42/49     3.48G   0.02153   0.02044         0        28       640: 100% 20/20 [00:36<00:00,  1.84s/it]\n",
            "               Class     Images     Labels          P          R     mAP@.5 mAP@.5:.95: 100% 1/1 [00:00<00:00,  1.50it/s]\n",
            "                 all         21         79      0.974      0.962      0.977      0.639\n",
            "\n",
            "     Epoch   gpu_mem       box       obj       cls    labels  img_size\n",
            "     43/49     3.48G   0.02049   0.01976         0        36       640: 100% 20/20 [00:35<00:00,  1.77s/it]\n",
            "               Class     Images     Labels          P          R     mAP@.5 mAP@.5:.95: 100% 1/1 [00:00<00:00,  1.73it/s]\n",
            "                 all         21         79      0.987      0.949       0.97      0.648\n",
            "\n",
            "     Epoch   gpu_mem       box       obj       cls    labels  img_size\n",
            "     44/49     3.48G    0.0208   0.02215         0        49       640: 100% 20/20 [00:36<00:00,  1.82s/it]\n",
            "               Class     Images     Labels          P          R     mAP@.5 mAP@.5:.95: 100% 1/1 [00:00<00:00,  1.65it/s]\n",
            "                 all         21         79      0.987      0.949      0.967      0.651\n",
            "\n",
            "     Epoch   gpu_mem       box       obj       cls    labels  img_size\n",
            "     45/49     3.48G   0.02024   0.01996         0        14       640: 100% 20/20 [00:36<00:00,  1.84s/it]\n",
            "               Class     Images     Labels          P          R     mAP@.5 mAP@.5:.95: 100% 1/1 [00:00<00:00,  1.58it/s]\n",
            "                 all         21         79      0.974      0.962      0.972      0.632\n",
            "\n",
            "     Epoch   gpu_mem       box       obj       cls    labels  img_size\n",
            "     46/49     3.48G   0.02001   0.02066         0        35       640: 100% 20/20 [00:36<00:00,  1.84s/it]\n",
            "               Class     Images     Labels          P          R     mAP@.5 mAP@.5:.95: 100% 1/1 [00:00<00:00,  1.84it/s]\n",
            "                 all         21         79      0.987      0.962      0.976      0.661\n",
            "\n",
            "     Epoch   gpu_mem       box       obj       cls    labels  img_size\n",
            "     47/49     3.48G   0.02005   0.02213         0        36       640: 100% 20/20 [00:35<00:00,  1.78s/it]\n",
            "               Class     Images     Labels          P          R     mAP@.5 mAP@.5:.95: 100% 1/1 [00:00<00:00,  1.60it/s]\n",
            "                 all         21         79      0.974      0.962      0.977      0.646\n",
            "\n",
            "     Epoch   gpu_mem       box       obj       cls    labels  img_size\n",
            "     48/49     3.48G   0.02069    0.0208         0        14       640: 100% 20/20 [00:36<00:00,  1.81s/it]\n",
            "               Class     Images     Labels          P          R     mAP@.5 mAP@.5:.95: 100% 1/1 [00:00<00:00,  1.49it/s]\n",
            "                 all         21         79      0.974      0.962      0.977      0.668\n",
            "\n",
            "     Epoch   gpu_mem       box       obj       cls    labels  img_size\n",
            "     49/49     3.48G   0.02013   0.02057         0        25       640: 100% 20/20 [00:37<00:00,  1.88s/it]\n",
            "               Class     Images     Labels          P          R     mAP@.5 mAP@.5:.95: 100% 1/1 [00:00<00:00,  1.78it/s]\n",
            "                 all         21         79      0.987      0.949      0.966      0.664\n",
            "\n",
            "50 epochs completed in 0.538 hours.\n",
            "Optimizer stripped from runs/train/exp2/weights/last.pt, 14.4MB\n",
            "Optimizer stripped from runs/train/exp2/weights/best.pt, 14.4MB\n",
            "\n",
            "Validating runs/train/exp2/weights/best.pt...\n",
            "Fusing layers... \n",
            "Model Summary: 213 layers, 7012822 parameters, 0 gradients, 15.8 GFLOPs\n",
            "               Class     Images     Labels          P          R     mAP@.5 mAP@.5:.95: 100% 1/1 [00:00<00:00,  1.42it/s]\n",
            "                 all         21         79      0.987      0.949      0.973      0.683\n",
            "Results saved to \u001b[1mruns/train/exp2\u001b[0m\n"
          ]
        }
      ]
    }
  ]
}